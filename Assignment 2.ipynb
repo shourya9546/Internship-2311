{
 "cells": [
  {
   "cell_type": "markdown",
   "id": "03075c9f",
   "metadata": {},
   "source": [
    "# Assignment 2"
   ]
  },
  {
   "cell_type": "code",
   "execution_count": 2,
   "id": "6b302725",
   "metadata": {},
   "outputs": [],
   "source": [
    "import re"
   ]
  },
  {
   "cell_type": "markdown",
   "id": "26324186",
   "metadata": {},
   "source": [
    "Question 1- Write a Python program to replace all occurrences of a space, comma, or dot with a colon.\n",
    "Sample Text- 'Python Exercises, PHP exercises.'\n",
    "Expected Output: Python:Exercises::PHP:exercises:"
   ]
  },
  {
   "cell_type": "code",
   "execution_count": 3,
   "id": "659a3d09",
   "metadata": {},
   "outputs": [
    {
     "name": "stdout",
     "output_type": "stream",
     "text": [
      "Python:Exercises::PHP:exercises:\n"
     ]
    }
   ],
   "source": [
    "#answer\n",
    "Text ='Python Exercises, PHP exercises.'\n",
    "pattern= r'[ ,.]'\n",
    "replacement=re.sub(pattern,':',Text)\n",
    "print(replacement)\n"
   ]
  },
  {
   "cell_type": "markdown",
   "id": "fd155e93",
   "metadata": {},
   "source": [
    "Question 2-  Create a dataframe using the dictionary below and remove everything (commas (,), !, XXXX, ;, etc.) from the columns except words.\n",
    "Dictionary- {'SUMMARY' : ['hello, world!', 'XXXXX test', '123four, five:; six...']}\n",
    "Expected output-\n",
    "0      hello world\n",
    "1             test\n",
    "2    four five six\n"
   ]
  },
  {
   "cell_type": "code",
   "execution_count": 31,
   "id": "c2f21fe0",
   "metadata": {},
   "outputs": [
    {
     "name": "stdout",
     "output_type": "stream",
     "text": [
      "0      hello world\n",
      "1             test\n",
      "2    four five six\n",
      "Name: SUMMARY, dtype: object\n"
     ]
    }
   ],
   "source": [
    "import pandas as pd\n",
    "Dict= {'SUMMARY' : ['hello, world!', 'XXXXX test', '123four, five:; six...']}\n",
    "\n",
    "data=pd.DataFrame(Dict)\n",
    "\n",
    "result= data['SUMMARY'].str.replace(r'[^a-z\\s]','',regex=True)\n",
    "print(result)\n",
    "\n",
    "\n"
   ]
  },
  {
   "cell_type": "markdown",
   "id": "86927585",
   "metadata": {},
   "source": [
    "Question 3- Create a function in python to find all words that are at least 4 characters long in a string. The use of the re.compile() method is mandatory."
   ]
  },
  {
   "cell_type": "code",
   "execution_count": 4,
   "id": "ca1ab936",
   "metadata": {},
   "outputs": [
    {
     "name": "stdout",
     "output_type": "stream",
     "text": [
      "['This', 'stri', 'with', 'word', 'four', 'leng', 'such', 'paty', 'caty', 'saty']\n"
     ]
    }
   ],
   "source": [
    "def find(text):\n",
    "    pat=r'\\w{4}'\n",
    "    value=re.compile(pat)\n",
    "    string=value.findall(text)\n",
    "    return string\n",
    "\n",
    "sample=\"This is a string with words of four length such as paty caty saty\"\n",
    "result=find(sample)\n",
    "print(result)\n"
   ]
  },
  {
   "cell_type": "markdown",
   "id": "6b9998a9",
   "metadata": {},
   "source": [
    "Question 4- Create a function in python to find all three, four, and five character words in a string. The use of the re.compile() method is mandatory."
   ]
  },
  {
   "cell_type": "code",
   "execution_count": 7,
   "id": "24087964",
   "metadata": {},
   "outputs": [
    {
     "name": "stdout",
     "output_type": "stream",
     "text": [
      "['This', 'strin', 'with', 'words', 'four', 'five', 'lengt', 'such', 'like', 'creat', 'funct', 'ion', 'pytho', 'find', 'all', 'three', 'four', 'and', 'five', 'chara', 'cter', 'words', 'strin']\n"
     ]
    }
   ],
   "source": [
    "def find(string):\n",
    "    patn=r'\\w{3,5}'\n",
    "    match=re.compile(patn)\n",
    "    value=match.findall(string)\n",
    "    return value\n",
    "sample=\"This is a string with words of four to five length such as like create a function in python to find all three, four, and five character words in a string\"\n",
    "result=find(sample)\n",
    "print(result)"
   ]
  },
  {
   "cell_type": "markdown",
   "id": "e3cfe732",
   "metadata": {},
   "source": [
    "Question 5- Create a function in Python to remove the parenthesis in a list of strings. The use of the re.compile() method is mandatory.\n",
    "Sample Text: [\"example (.com)\", \"hr@fliprobo (.com)\", \"github (.com)\", \"Hello (Data Science World)\", \"Data (Scientist)\"]\n",
    "Expected Output:\n",
    "example.com\n",
    "hr@fliprobo.com\n",
    "github.com\n",
    "Hello Data Science World\n",
    "Data Scientist"
   ]
  },
  {
   "cell_type": "code",
   "execution_count": 12,
   "id": "c0163e34",
   "metadata": {},
   "outputs": [
    {
     "name": "stdout",
     "output_type": "stream",
     "text": [
      "['example .com', 'hr@fliprobo .com', 'github .com', 'Hello Data Science World', 'Data Scientist']\n",
      "None\n"
     ]
    }
   ],
   "source": [
    "def remove_parenthesis(strings_list):\n",
    "    patn = re.compile(r\"\\(|\\)\")  \n",
    "    strings = [patn.sub('', string).strip() for string in strings_list]\n",
    "    print (strings)\n",
    "\n",
    "\n",
    "text= [\"example (.com)\",\"hr@fliprobo (.com)\", \"github (.com)\", \"Hello (Data Science World)\", \"Data (Scientist)\"]\n",
    "\n",
    "result = remove_parenthesis(text)\n",
    "print(result)"
   ]
  },
  {
   "cell_type": "markdown",
   "id": "eca38b38",
   "metadata": {},
   "source": [
    "Question 6- Write a python program to remove the parenthesis area from the text stored in the text file using Regular Expression.\n",
    "Sample Text: [\"example (.com)\", \"hr@fliprobo (.com)\", \"github (.com)\", \"Hello (Data Science World)\", \"Data (Scientist)\"]\n",
    "Expected Output: [\"example\", \"hr@fliprobo\", \"github\", \"Hello\", \"Data\"]\n",
    "Note- Store given sample text in the text file and then to remove the parenthesis area from the text.\n"
   ]
  },
  {
   "cell_type": "code",
   "execution_count": 17,
   "id": "e1d325a9",
   "metadata": {},
   "outputs": [
    {
     "name": "stdout",
     "output_type": "stream",
     "text": [
      "['example', 'hr@fliprobo', 'github', 'Hello', 'Data']\n"
     ]
    }
   ],
   "source": [
    "with open('sample.txt','r' ) as file:\n",
    "    file_content=file.read()\n",
    "    \n",
    "    \n",
    "def remove_parenthesis(strings):\n",
    "    pattern = re.compile(r'\\s*\\([^)]*\\)')  \n",
    "    strings = [pattern.sub('', string).strip() for string in strings]\n",
    "    return (strings)\n",
    "\n",
    "\n",
    "text= [\"example (.com)\",\"hr@fliprobo (.com)\", \"github (.com)\", \"Hello (Data Science World)\", \"Data (Scientist)\"]\n",
    "\n",
    "result = remove_parenthesis(text)\n",
    "print(result)\n",
    "    \n"
   ]
  },
  {
   "cell_type": "markdown",
   "id": "84dd36ea",
   "metadata": {},
   "source": [
    "Question 7- Write a regular expression in Python to split a string into uppercase letters.\n",
    "Sample text: “ImportanceOfRegularExpressionsInPython”\n",
    "Expected Output: [‘Importance’, ‘Of’, ‘Regular’, ‘Expression’, ‘In’, ‘Python’]\n"
   ]
  },
  {
   "cell_type": "code",
   "execution_count": 10,
   "id": "c8a72780",
   "metadata": {},
   "outputs": [
    {
     "name": "stdout",
     "output_type": "stream",
     "text": [
      "['Importance', 'Of', 'Regular', 'Expressions', 'In', 'Python']\n"
     ]
    }
   ],
   "source": [
    "text='ImportanceOfRegularExpressionsInPython'\n",
    "patn=r'[A-Z][^A-Z]*'\n",
    "result=re.findall(patn,text)\n",
    "print(result)\n",
    "    \n",
    "    "
   ]
  },
  {
   "cell_type": "markdown",
   "id": "372a2d22",
   "metadata": {},
   "source": [
    "Question 8- Create a function in python to insert spaces between words starting with numbers.\n",
    "Sample Text: “RegularExpression1IsAn2ImportantTopic3InPython\"\n",
    "Expected Output: RegularExpression 1IsAn 2ImportantTopic 3InPython\n"
   ]
  },
  {
   "cell_type": "code",
   "execution_count": 136,
   "id": "8b08c081",
   "metadata": {},
   "outputs": [
    {
     "name": "stdout",
     "output_type": "stream",
     "text": [
      "RegularExpression 1IsAn 2ImportantTopic 3InPython\n"
     ]
    }
   ],
   "source": [
    "\n",
    "def insert_space_between_no(text):\n",
    "    patn = r\"(\\d+)([a-zA-Z])\"\n",
    "    result = re.sub(patn, r\" \\1\\2\", text)\n",
    "    print(result)\n",
    "\n",
    "\n",
    "text = 'RegularExpression1IsAn2ImportantTopic3InPython'\n",
    "\n",
    "result = insert_space_between_no(text)\n"
   ]
  },
  {
   "cell_type": "markdown",
   "id": "9c1eb33a",
   "metadata": {},
   "source": [
    "Question 9- Create a function in python to insert spaces between words starting with capital letters or with numbers.\n",
    "Sample Text: “RegularExpression1IsAn2ImportantTopic3InPython\"\n",
    "Expected Output:  RegularExpression 1 IsAn 2 ImportantTopic 3 InPython\n"
   ]
  },
  {
   "cell_type": "code",
   "execution_count": 138,
   "id": "032fda8b",
   "metadata": {},
   "outputs": [
    {
     "name": "stdout",
     "output_type": "stream",
     "text": [
      "RegularExpression 1 IsAn 2 ImportantTopic 3 InPython\n"
     ]
    }
   ],
   "source": [
    "\n",
    "def insert_space_between_numbers_and_capital_letters(text):\n",
    "    patn = r'(\\d+)([A-Z])'\n",
    "    result = re.sub(patn, r\" \\1 \\2\", text)\n",
    "    print(result)\n",
    "\n",
    "text = \"RegularExpression1IsAn2ImportantTopic3InPython\"\n",
    "result = insert_space_between_numbers_and_capital_letters(text)\n"
   ]
  },
  {
   "cell_type": "markdown",
   "id": "b588c98f",
   "metadata": {},
   "source": [
    "Question 10- Use the github link below to read the data and create a dataframe. After creating the dataframe extract the first 6 letters of each country and store in the dataframe under a new column called first_five_letters."
   ]
  },
  {
   "cell_type": "code",
   "execution_count": 14,
   "id": "f42ed073",
   "metadata": {},
   "outputs": [
    {
     "name": "stdout",
     "output_type": "stream",
     "text": [
      "0      SWITZE\n",
      "1      ICELAN\n",
      "2      DENMAR\n",
      "3      NORWAY\n",
      "4      CANADA\n",
      "        ...  \n",
      "153    RWANDA\n",
      "154     BENIN\n",
      "155     SYRIA\n",
      "156    BURUND\n",
      "157      TOGO\n",
      "Name: Country, Length: 158, dtype: object\n",
      "       Country          Region  Happiness Rank  Happiness Score  \\\n",
      "0  Switzerland  Western Europe               1            7.587   \n",
      "1      Iceland  Western Europe               2            7.561   \n",
      "2      Denmark  Western Europe               3            7.527   \n",
      "3       Norway  Western Europe               4            7.522   \n",
      "4       Canada   North America               5            7.427   \n",
      "\n",
      "   Standard Error  Economy (GDP per Capita)   Family  \\\n",
      "0         0.03411                   1.39651  1.34951   \n",
      "1         0.04884                   1.30232  1.40223   \n",
      "2         0.03328                   1.32548  1.36058   \n",
      "3         0.03880                   1.45900  1.33095   \n",
      "4         0.03553                   1.32629  1.32261   \n",
      "\n",
      "   Health (Life Expectancy)  Freedom  Trust (Government Corruption)  \\\n",
      "0                   0.94143  0.66557                        0.41978   \n",
      "1                   0.94784  0.62877                        0.14145   \n",
      "2                   0.87464  0.64938                        0.48357   \n",
      "3                   0.88521  0.66973                        0.36503   \n",
      "4                   0.90563  0.63297                        0.32957   \n",
      "\n",
      "   Generosity  Dystopia Residual first_five_letters  \n",
      "0     0.29678            2.51738             SWITZE  \n",
      "1     0.43630            2.70201             ICELAN  \n",
      "2     0.34139            2.49204             DENMAR  \n",
      "3     0.34699            2.46531             NORWAY  \n",
      "4     0.45811            2.45176             CANADA  \n"
     ]
    }
   ],
   "source": [
    "import pandas as pd\n",
    "\n",
    "data = pd.read_csv('github.csv')\n",
    "\n",
    "df=pd.DataFrame(data)\n",
    "\n",
    "\n",
    "result = df['Country'].str[:6].str.upper()\n",
    "print(result)\n",
    "\n",
    "df['first_five_letters'] = result\n",
    "print(df.head(5))\n",
    "\n"
   ]
  },
  {
   "cell_type": "markdown",
   "id": "7623c828",
   "metadata": {},
   "source": [
    "Question 11- Write a Python program to match a string that contains only upper and lowercase letters, numbers, and underscores."
   ]
  },
  {
   "cell_type": "code",
   "execution_count": 147,
   "id": "ab28f2ba",
   "metadata": {},
   "outputs": [
    {
     "name": "stdout",
     "output_type": "stream",
     "text": [
      "String 'abc_String123': Matches\n",
      "String 'Aasdf_String': Matches\n",
      "String 'Idfvgf_St$': Does not match\n",
      "String 'ADFGerf2#': Does not match\n",
      "String 'ASDFG@#$@': Does not match\n"
     ]
    }
   ],
   "source": [
    "text = [\"abc_String123\", \"Aasdf_String\", \"Idfvgf_St$\", \"ADFGerf2#\", \"ASDFG@#$@\"]\n",
    "\n",
    "def match(text):\n",
    "    pattern = re.compile(r'^[a-zA-Z0-9_]+$')\n",
    "    match = pattern.match(text)\n",
    "    return (match)\n",
    "\n",
    "for i in text:\n",
    "    result = match(i)  \n",
    "    print(f\"String '{i}': {'Matches' if result else 'Does not match'}\")"
   ]
  },
  {
   "cell_type": "markdown",
   "id": "cacd011f",
   "metadata": {},
   "source": [
    "Question 12- Write a Python program where a string will start with a specific number. "
   ]
  },
  {
   "cell_type": "code",
   "execution_count": 9,
   "id": "b0fb5ba7",
   "metadata": {},
   "outputs": [
    {
     "name": "stdout",
     "output_type": "stream",
     "text": [
      "String '123abc' starts with 789: No\n",
      "String '456def' starts with 789: No\n",
      "String '789xyz' starts with 789: Yes\n",
      "String 'abc123' starts with 789: No\n",
      "String '456stsdf' starts with 789: No\n"
     ]
    }
   ],
   "source": [
    "def starts_specific_number(text_list, specific_number):\n",
    "    pattern = re.compile(r'^' + re.escape(str(specific_number)))\n",
    "    results = []\n",
    "    for string in text_list:\n",
    "        match = pattern.match(string)\n",
    "        results.append(match)\n",
    "    return results\n",
    "\n",
    "text = [\"123abc\", \"456def\", \"789xyz\", \"abc123\", \"456stsdf\"]\n",
    "specific_number_to_check = 789\n",
    "\n",
    "results = starts_specific_number(text, specific_number_to_check)\n",
    "\n",
    "for i, result in enumerate(results):\n",
    "    starts_with = 'Yes' if result else 'No'\n",
    "    print(f\"String '{text[i]}' starts with {specific_number_to_check}: {starts_with}\")"
   ]
  },
  {
   "cell_type": "markdown",
   "id": "d04d012a",
   "metadata": {},
   "source": [
    "Question 13- Write a Python program to remove leading zeros from an IP address"
   ]
  },
  {
   "cell_type": "code",
   "execution_count": 10,
   "id": "84216c48",
   "metadata": {},
   "outputs": [
    {
     "name": "stdout",
     "output_type": "stream",
     "text": [
      "1.2.3.4\n"
     ]
    }
   ],
   "source": [
    "def remove_zeros(ip_address):\n",
    "    octets = ip_address.split('.')\n",
    "    for i, octet in enumerate(octets):\n",
    "        while octet[0] == '0' and len(octet) > 1:\n",
    "            octet = octet[1:]\n",
    "        octets[i] = octet\n",
    "    return '.'.join(octets)\n",
    "\n",
    "ip_address = \"001.002.003.004\"\n",
    "result = remove_zeros(ip_address)\n",
    "print(result)"
   ]
  },
  {
   "cell_type": "markdown",
   "id": "3432ac4d",
   "metadata": {},
   "source": [
    "Question 14- Write a regular expression in python to match a date string in the form of Month name followed by day number and year stored in a text file.\n",
    "Sample text :  ' On August 15th 1947 that India was declared independent from British colonialism, and the reins of control were handed over to the leaders of the Country’.\n",
    "Expected Output- August 15th 1947\n",
    "Note- Store given sample text in the text file and then extract the date string asked format.\n"
   ]
  },
  {
   "cell_type": "code",
   "execution_count": 34,
   "id": "1d05f8f6",
   "metadata": {},
   "outputs": [
    {
     "name": "stdout",
     "output_type": "stream",
     "text": [
      "August 15th 1947\n"
     ]
    }
   ],
   "source": [
    "\n",
    "\n",
    "with open('sample2.txt', 'r') as file:\n",
    "    file_text = file.read()\n",
    "\n",
    "\n",
    "patn = r'\\b(?:August|)\\s+\\d{1,2}(?:th)?\\s+\\d{4}\\b'\n",
    "\n",
    "\n",
    "dates = re.findall(patn, text)\n",
    "\n",
    "\n",
    "\n",
    "for date in dates_found:\n",
    "    print(date)\n"
   ]
  },
  {
   "cell_type": "markdown",
   "id": "44932996",
   "metadata": {},
   "source": [
    "Question 15- Write a Python program to search some literals strings in a string. \n",
    "Sample text : 'The quick brown fox jumps over the lazy dog.'\n",
    "Searched words : 'fox', 'dog', 'horse'\n"
   ]
  },
  {
   "cell_type": "code",
   "execution_count": 16,
   "id": "b5c4ebbf",
   "metadata": {},
   "outputs": [
    {
     "name": "stdout",
     "output_type": "stream",
     "text": [
      "Matched fox in The quick brown fox jumps over the lazy dog.\n",
      "Matched dog in The quick brown fox jumps over the lazy dog.\n",
      "Not matched horse in The quick brown fox jumps over the lazy dog.\n"
     ]
    }
   ],
   "source": [
    "text = \"The quick brown fox jumps over the lazy dog.\"\n",
    "pat = [\"fox\", \"dog\", \"horse\"]\n",
    "\n",
    "for i in pat:\n",
    "    match = re.search(i, text)\n",
    "    if match:\n",
    "        print(f\"Matched {i} in {text}\")\n",
    "    else:\n",
    "        print(f\"Not matched {i} in {text}\")"
   ]
  },
  {
   "cell_type": "markdown",
   "id": "dead79d5",
   "metadata": {},
   "source": [
    "Question 16- Write a Python program to search a literals string in a string and also find the location within the original string where the pattern occurs\n",
    "Sample text : 'The quick brown fox jumps over the lazy dog.'\n",
    "Searched words : 'fox'\n"
   ]
  },
  {
   "cell_type": "code",
   "execution_count": 27,
   "id": "db620a7f",
   "metadata": {},
   "outputs": [
    {
     "name": "stdout",
     "output_type": "stream",
     "text": [
      "The word 'fox' was found at : <re.Match object; span=(16, 19), match='fox'>\n"
     ]
    }
   ],
   "source": [
    "text = 'The quick brown fox jumps over the lazy dog.'\n",
    "pat = 'fox'\n",
    "\n",
    "match = re.search(pat, text)\n",
    "\n",
    "if match:\n",
    "    print(f\"The word '{pat}' was found at : {match}\")\n",
    "else:\n",
    "    print(f\"The word '{pat}' was not found in the text.\")"
   ]
  },
  {
   "cell_type": "markdown",
   "id": "8e828003",
   "metadata": {},
   "source": [
    "Question 17- Write a Python program to find the substrings within a string.\n",
    "Sample text : 'Python exercises, PHP exercises, C# exercises'\n",
    "Pattern : 'exercises'.\n"
   ]
  },
  {
   "cell_type": "code",
   "execution_count": 25,
   "id": "173c68b4",
   "metadata": {},
   "outputs": [
    {
     "name": "stdout",
     "output_type": "stream",
     "text": [
      "['exercises', 'exercises', 'exercises']\n"
     ]
    }
   ],
   "source": [
    "text = 'Python exercises, PHP exercises, C# exercises'\n",
    "pattern = 'exercises'\n",
    "\n",
    "matches = re.findall(pattern, text)\n",
    "print(matches)"
   ]
  },
  {
   "cell_type": "markdown",
   "id": "8e65b1ce",
   "metadata": {},
   "source": [
    "Question 18- Write a Python program to find the occurrence and position of the substrings within a string."
   ]
  },
  {
   "cell_type": "code",
   "execution_count": 28,
   "id": "d9dd9049",
   "metadata": {},
   "outputs": [
    {
     "name": "stdout",
     "output_type": "stream",
     "text": [
      "Found exercises at 7: exercises\n",
      "Found exercises at 22: exercises\n",
      "Found exercises at 36: exercises\n"
     ]
    }
   ],
   "source": [
    "text = 'Python exercises, PHP exercises, C# exercises'\n",
    "patn = 'exercises'\n",
    "\n",
    "matches = re.finditer(patn, text)\n",
    "for match in matches:\n",
    "    s = match.start()\n",
    "    e = match.end()\n",
    "    print(f\"Found {patn} at {s}: {text[s:e]}\")"
   ]
  },
  {
   "cell_type": "markdown",
   "id": "58e733d5",
   "metadata": {},
   "source": [
    "Question 19- Write a Python program to convert a date of yyyy-mm-dd format to dd-mm-yyyy format."
   ]
  },
  {
   "cell_type": "code",
   "execution_count": 44,
   "id": "61f55167",
   "metadata": {},
   "outputs": [
    {
     "name": "stdout",
     "output_type": "stream",
     "text": [
      "13-12-2023\n"
     ]
    }
   ],
   "source": [
    "import datetime\n",
    "\n",
    "def convert(date):\n",
    "    try:\n",
    "        \n",
    "        format_date = datetime.datetime.strptime(date, '%Y-%m-%d')\n",
    "\n",
    "        \n",
    "        day = format_date.day\n",
    "        month = format_date.month\n",
    "        year = format_date.year\n",
    "\n",
    "        \n",
    "        converted_date = f\"{day}-{month:02d}-{year}\"\n",
    "\n",
    "        return converted_date\n",
    "    except ValueError:\n",
    "        print(\"Invalid date format\")\n",
    "        return None\n",
    "\n",
    "\n",
    "date = \"2023-12-13\"\n",
    "converted_date = convert(date)\n",
    "print(converted_date)"
   ]
  },
  {
   "cell_type": "markdown",
   "id": "c1ae7087",
   "metadata": {},
   "source": [
    "Question 20- Create a function in python to find all decimal numbers with a precision of 1 or 2 in a string. The use of the re.compile() method is mandatory.\n",
    "Sample Text: \"01.12 0132.123 2.31875 145.8 3.01 27.25 0.25\"\n",
    "Expected Output: ['01.12', '145.8', '3.01', '27.25', '0.25']\n"
   ]
  },
  {
   "cell_type": "code",
   "execution_count": 43,
   "id": "9af49fed",
   "metadata": {},
   "outputs": [
    {
     "name": "stdout",
     "output_type": "stream",
     "text": [
      "['01.12', '145.8', '3.01', '27.25', '0.25']\n"
     ]
    }
   ],
   "source": [
    "def decimal_numbers(text):\n",
    "    pat = re.compile(r'\\b\\d+\\.\\d{1,2}\\b|\\b\\d+\\.\\d{2}\\b')\n",
    "    matches = pat.findall(text)\n",
    "    return matches\n",
    "\n",
    "text = \"01.12 0132.123 2.31875 145.8 3.01 27.25 0.25\"\n",
    "\n",
    "decimal_numbers = decimal_numbers(sample_text)\n",
    "print(decimal_numbers)"
   ]
  },
  {
   "cell_type": "markdown",
   "id": "c4c8cedd",
   "metadata": {},
   "source": [
    "Question 21- Write a Python program to separate and print the numbers and their position of a given string."
   ]
  },
  {
   "cell_type": "code",
   "execution_count": 71,
   "id": "58b9acc4",
   "metadata": {},
   "outputs": [
    {
     "name": "stdout",
     "output_type": "stream",
     "text": [
      "Number: 15, Position: 16\n",
      "Number: 50, Position: 19\n",
      "Number: 2, Position: 26\n",
      "Number: 7, Position: 41\n",
      "Number: 1, Position: 47\n"
     ]
    }
   ],
   "source": [
    "\n",
    "\n",
    "text = 'The price is rs 15.50 for 2 items and rs 7 for 1 num.'\n",
    "\n",
    "patn = re.compile(r'\\d+')\n",
    "matches = patn.finditer(text)\n",
    "\n",
    "for match in matches:\n",
    "    number = match.group()\n",
    "    position = match.start()\n",
    "    print(f\"Number: {number}, Position: {position}\")\n"
   ]
  },
  {
   "cell_type": "markdown",
   "id": "1c7acf42",
   "metadata": {},
   "source": [
    "Question 22- Write a regular expression in python program to extract maximum/largest numeric value from a string.\n",
    "Sample Text:  'My marks in each semester are: 947, 896, 926, 524, 734, 950, 642'\n",
    "Expected Output: 950\n"
   ]
  },
  {
   "cell_type": "code",
   "execution_count": 59,
   "id": "4ab0f953",
   "metadata": {},
   "outputs": [
    {
     "name": "stdout",
     "output_type": "stream",
     "text": [
      "950\n"
     ]
    }
   ],
   "source": [
    "text = 'My marks in each semester are: 947, 896, 926, 524, 734, 950, 642'\n",
    "patn = r'\\d+'\n",
    "matches = re.findall(patn, text)\n",
    "max_num = max(int(num) for num in matches)\n",
    "print(max_num)"
   ]
  },
  {
   "cell_type": "markdown",
   "id": "48deeaac",
   "metadata": {},
   "source": [
    "Question 23- Create a function in python to insert spaces between words starting with capital letters.\n",
    "Sample Text: “RegularExpressionIsAnImportantTopicInPython\"\n",
    "Expected Output: Regular Expression Is An Important Topic In Python\n"
   ]
  },
  {
   "cell_type": "code",
   "execution_count": 80,
   "id": "2955ca97",
   "metadata": {},
   "outputs": [
    {
     "name": "stdout",
     "output_type": "stream",
     "text": [
      "Regular Expression Is An Important Topic In Python\n"
     ]
    }
   ],
   "source": [
    "def insert_spaces(text):\n",
    "    pat=r'(?<!^)(?=[A-Z])'\n",
    "    result = re.sub(pat, ' ', text)\n",
    "    return result\n",
    "\n",
    "text = \"RegularExpressionIsAnImportantTopicInPython\"\n",
    "\n",
    "result = insert_spaces(text)\n",
    "print(result)"
   ]
  },
  {
   "cell_type": "markdown",
   "id": "bad43f9c",
   "metadata": {},
   "source": [
    "Question 24- Python regex to find sequences of one upper case letter followed by lower case letters"
   ]
  },
  {
   "cell_type": "code",
   "execution_count": 70,
   "id": "5f012d45",
   "metadata": {},
   "outputs": [
    {
     "name": "stdout",
     "output_type": "stream",
     "text": [
      "This\n",
      "Expression\n",
      "Is\n",
      "An\n",
      "Important\n",
      "Topic\n",
      "In\n",
      "Datascicene\n"
     ]
    }
   ],
   "source": [
    "text = 'ThisExpressionIsAnImportantTopicInDatascicene'\n",
    "pat = \"[A-Z]+[a-z]+\"\n",
    "\n",
    "matches = re.findall(pat, text)\n",
    "\n",
    "for match in matches:\n",
    "    print(match)"
   ]
  },
  {
   "cell_type": "markdown",
   "id": "cc77548d",
   "metadata": {},
   "source": [
    "Question 25- Write a Python program to remove continuous duplicate words from Sentence using Regular Expression.\n",
    "Sample Text: \"Hello hello world world\"\n",
    "Expected Output: Hello hello world\n"
   ]
  },
  {
   "cell_type": "code",
   "execution_count": 84,
   "id": "bb2f77af",
   "metadata": {},
   "outputs": [
    {
     "name": "stdout",
     "output_type": "stream",
     "text": [
      "Hello world \n"
     ]
    }
   ],
   "source": [
    "def duplicate_words(text):\n",
    "    pat = r'\\b(\\w+)(?:\\W(\\w+))+\\b'\n",
    "    check = re.sub(pat, r\"\\1 \\2 \", text)\n",
    "    return check\n",
    "\n",
    "text = 'Hello hello world world'\n",
    "result = duplicate_words(text)\n",
    "print(result)"
   ]
  },
  {
   "cell_type": "markdown",
   "id": "f1cc7db1",
   "metadata": {},
   "source": [
    "Question 26-  Write a python program using RegEx to accept string ending with alphanumeric character."
   ]
  },
  {
   "cell_type": "code",
   "execution_count": 91,
   "id": "94339f1e",
   "metadata": {},
   "outputs": [
    {
     "name": "stdout",
     "output_type": "stream",
     "text": [
      "valid\n"
     ]
    }
   ],
   "source": [
    "def string(text):\n",
    "    patn = r\"^[a-zA-Z0-9]+$\"\n",
    "    if re.search(patn, text):\n",
    "        return True\n",
    "    else:\n",
    "        return False\n",
    "\n",
    "test = \"Datascience123\"\n",
    "if string(test):\n",
    "    print(\"valid\")\n",
    "else:\n",
    "    print(\" invalid\")"
   ]
  },
  {
   "cell_type": "markdown",
   "id": "a1d6619b",
   "metadata": {},
   "source": [
    "Question 27-Write a python program using RegEx to extract the hashtags.\n",
    "Sample Text:  \"\"\"RT @kapil_kausik: #Doltiwal I mean #xyzabc is \"hurt\" by #Demonetization as the same has rendered USELESS <ed><U+00A0><U+00BD><ed><U+00B1><U+0089> \"acquired funds\" No wo\"\"\"\n",
    "Expected Output: ['#Doltiwal', '#xyzabc', '#Demonetization']\n"
   ]
  },
  {
   "cell_type": "code",
   "execution_count": 97,
   "id": "dce4277e",
   "metadata": {},
   "outputs": [
    {
     "name": "stdout",
     "output_type": "stream",
     "text": [
      "Extracted: ['#Doltiwal', '#xyzabc', '#Demonetization']\n"
     ]
    }
   ],
   "source": [
    "text = \"\"\"RT @kapil_kausik: #Doltiwal I mean #xyzabc is \"hurt\" by #Demonetization as the same has rendered USELESS <ed><U+00A0><U+00BD><ed><U+00B1><U+0089> \"acquired funds\" No wo\"\"\"\n",
    "pat=r'#\\w+'\n",
    "result = re.findall(pat, sample_text)\n",
    "\n",
    "print('Extracted:', result)"
   ]
  },
  {
   "cell_type": "markdown",
   "id": "c21953fa",
   "metadata": {},
   "source": [
    "Question 28- Write a python program using RegEx to remove <U+..> like symbols\n",
    "Check the below sample text, there are strange symbols something of the sort <U+..> all over the place. You need to come up with a general Regex expression that will cover all such symbols.\n",
    "Sample Text: \"@Jags123456 Bharat band on 28??<ed><U+00A0><U+00BD><ed><U+00B8><U+0082>Those who  are protesting #demonetization  are all different party leaders\"\n",
    "Expected Output: @Jags123456 Bharat band on 28??<ed><ed>Those who  are protesting #demonetization  are all different party leaders\n"
   ]
  },
  {
   "cell_type": "code",
   "execution_count": 104,
   "id": "55e9a03c",
   "metadata": {},
   "outputs": [
    {
     "name": "stdout",
     "output_type": "stream",
     "text": [
      "Cleaned Text: @Jags123456 Bharat band on 28??<ed><ed>Those who  are protesting #demonetization  are all different party leaders\n"
     ]
    }
   ],
   "source": [
    "text = \"@Jags123456 Bharat band on 28??<ed><U+00A0><U+00BD><ed><U+00B8><U+0082>Those who  are protesting #demonetization  are all different party leaders\"\n",
    "pat=r\"<U+.*?>\"\n",
    "rsult= re.sub(pat, '', text)\n",
    "\n",
    "print(\"Cleaned Text:\", rsult)"
   ]
  },
  {
   "cell_type": "markdown",
   "id": "92ad7723",
   "metadata": {},
   "source": [
    "Question 29- Write a python program to extract dates from the text stored in the text file.\n",
    "Sample Text: Ron was born on 12-09-1992 and he was admitted to school 15-12-1999.\n",
    "Note- Store this sample text in the file and then extract dates.\n"
   ]
  },
  {
   "cell_type": "code",
   "execution_count": 122,
   "id": "dec2d879",
   "metadata": {},
   "outputs": [
    {
     "name": "stdout",
     "output_type": "stream",
     "text": [
      "Ron was born on 12-09-1992 and he was admitted to school 15-12-1999.\n",
      "12-09-1992\n",
      "15-12-1999\n"
     ]
    }
   ],
   "source": [
    "with open('file.txt', 'r') as file:\n",
    "    file = file.read()\n",
    "    print(file)\n",
    "pat=r'\\b\\d{2}-\\d{2}-\\d{4}\\b'\n",
    "dates = re.findall(pat, text)\n",
    "for i in dates:\n",
    "    print(i)\n",
    "\n"
   ]
  },
  {
   "cell_type": "markdown",
   "id": "b5b4b1a1",
   "metadata": {},
   "source": [
    "Question 30- Create a function in python to remove all words from a string of length between 2 and 4.\n",
    "The use of the re.compile() method is mandatory.\n",
    "Sample Text: \"The following example creates an ArrayList with a capacity of 50 elements. 4 elements are then added to the ArrayList and the ArrayList is trimmed accordingly.\"\n",
    "Expected Output:  following example creates ArrayList a capacity elements. 4 elements added ArrayList ArrayList trimmed accordingly.\n"
   ]
  },
  {
   "cell_type": "code",
   "execution_count": 106,
   "id": "80ef9230",
   "metadata": {},
   "outputs": [
    {
     "name": "stdout",
     "output_type": "stream",
     "text": [
      " following example creates  ArrayList  a capacity   elements. 4 elements   added   ArrayList   ArrayList  trimmed accordingly.\n"
     ]
    }
   ],
   "source": [
    "def remove_words(text):\n",
    "    pat = re.compile(r'\\b\\w{2,4}\\b')\n",
    "    result = pat.sub('', text)\n",
    "    return result\n",
    "\n",
    "sample_text = \"The following example creates an ArrayList with a capacity of 50 elements. 4 elements are then added to the ArrayList and the ArrayList is trimmed accordingly.\"\n",
    "\n",
    "result = remove_words(sample_text)\n",
    "print(result)"
   ]
  },
  {
   "cell_type": "code",
   "execution_count": null,
   "id": "114c1768",
   "metadata": {},
   "outputs": [],
   "source": []
  },
  {
   "cell_type": "code",
   "execution_count": null,
   "id": "9414980d",
   "metadata": {},
   "outputs": [],
   "source": []
  },
  {
   "cell_type": "code",
   "execution_count": null,
   "id": "80571015",
   "metadata": {},
   "outputs": [],
   "source": []
  },
  {
   "cell_type": "code",
   "execution_count": null,
   "id": "a3dc4c77",
   "metadata": {},
   "outputs": [],
   "source": []
  },
  {
   "cell_type": "code",
   "execution_count": null,
   "id": "2b6c557c",
   "metadata": {},
   "outputs": [],
   "source": []
  }
 ],
 "metadata": {
  "kernelspec": {
   "display_name": "Python 3 (ipykernel)",
   "language": "python",
   "name": "python3"
  },
  "language_info": {
   "codemirror_mode": {
    "name": "ipython",
    "version": 3
   },
   "file_extension": ".py",
   "mimetype": "text/x-python",
   "name": "python",
   "nbconvert_exporter": "python",
   "pygments_lexer": "ipython3",
   "version": "3.11.5"
  }
 },
 "nbformat": 4,
 "nbformat_minor": 5
}
